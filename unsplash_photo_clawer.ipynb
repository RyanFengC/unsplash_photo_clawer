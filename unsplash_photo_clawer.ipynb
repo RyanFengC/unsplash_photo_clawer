{
  "nbformat": 4,
  "nbformat_minor": 0,
  "metadata": {
    "colab": {
      "provenance": []
    },
    "kernelspec": {
      "name": "python3",
      "display_name": "Python 3"
    },
    "language_info": {
      "name": "python"
    }
  },
  "cells": [
    {
      "cell_type": "markdown",
      "source": [
        "安裝相關套件"
      ],
      "metadata": {
        "id": "HdM9FgZYczBa"
      }
    },
    {
      "cell_type": "code",
      "execution_count": null,
      "metadata": {
        "id": "FHrEtTPgcScb"
      },
      "outputs": [],
      "source": [
        "!apt-get update\n",
        "!apt install chromium-chromedriver\n",
        "!cp /usr/lib/chromium-browser/chromedriver /usr/bin\n",
        "!pip install selenium\n",
        "!pip install wget"
      ]
    },
    {
      "cell_type": "markdown",
      "source": [
        "colab運行selenium 所需指令"
      ],
      "metadata": {
        "id": "QxM2ugfLR7ZK"
      }
    },
    {
      "cell_type": "code",
      "source": [
        "from selenium import webdriver\n",
        "options = webdriver.ChromeOptions()\n",
        "options.add_argument('--headless')\n",
        "options.add_argument('--no-sandbox')\n",
        "options.add_argument('--disable-dev-shm-usage')\n",
        "driver = webdriver.Chrome('chromedriver',options=options)\n",
        "driver.implicitly_wait(10)"
      ],
      "metadata": {
        "id": "EECSMjAzcwA9"
      },
      "execution_count": null,
      "outputs": []
    },
    {
      "cell_type": "markdown",
      "source": [
        "載入selenium相關模組，用於等待網頁載入"
      ],
      "metadata": {
        "id": "jApcv-vbYq5L"
      }
    },
    {
      "cell_type": "code",
      "source": [
        "from selenium import webdriver\n",
        "from selenium.webdriver.common.by import By\n",
        "from selenium.webdriver.support.wait import WebDriverWait\n",
        "from selenium.webdriver.support import expected_conditions as EC"
      ],
      "metadata": {
        "id": "ikbepXOjrRJH"
      },
      "execution_count": null,
      "outputs": []
    },
    {
      "cell_type": "code",
      "source": [
        "import os #用於取得及創建google雲端硬碟之資料夾或路徑\n",
        "import wget #wget模組用於下載"
      ],
      "metadata": {
        "id": "XRzP-40Klen9"
      },
      "execution_count": null,
      "outputs": []
    },
    {
      "cell_type": "markdown",
      "source": [
        "連接google雲端硬碟"
      ],
      "metadata": {
        "id": "XElNGH-4UCFW"
      }
    },
    {
      "cell_type": "code",
      "source": [
        "from google.colab import drive\n",
        "drive.mount('/content/drive')"
      ],
      "metadata": {
        "colab": {
          "base_uri": "https://localhost:8080/"
        },
        "id": "IkPxfnBTUBSB",
        "outputId": "8e8181a5-b314-4687-968f-03ba23873aff"
      },
      "execution_count": null,
      "outputs": [
        {
          "output_type": "stream",
          "name": "stdout",
          "text": [
            "Mounted at /content/drive\n"
          ]
        }
      ]
    },
    {
      "cell_type": "code",
      "source": [
        "driver.get(\"https://unsplash.com/images\")\n",
        "# 最大化窗口，因為每一次爬取只能看到視窗内的圖片  \n",
        "driver.maximize_window()\n",
        "from selenium.webdriver.common.by import By\n",
        "q = driver.find_element(By.NAME, 'searchKeyword')#找到搜尋欄之標籤\n",
        "keyword='cat'#要搜尋的關鍵字\n",
        "q.send_keys(keyword)#在搜尋欄之標籤輸入要搜尋的關鍵字\n",
        "q.submit()#送出搜尋關鍵字"
      ],
      "metadata": {
        "id": "I_LT423XdbV5"
      },
      "execution_count": null,
      "outputs": []
    },
    {
      "cell_type": "code",
      "source": [
        "WebDriverWait(driver, 10).until(\n",
        "        EC.presence_of_element_located((By.CLASS_NAME, 'AYOsT'))\n",
        "    )#等待網頁載入\"load more\"按鈕\n",
        "button = driver.find_element(By.CLASS_NAME, 'AYOsT')#找到\"load more\"按鈕之標籤\n",
        "button.click()#點擊"
      ],
      "metadata": {
        "id": "YEPbNiJm4c3w"
      },
      "execution_count": null,
      "outputs": []
    },
    {
      "cell_type": "code",
      "source": [
        "WebDriverWait(driver, 10).until(\n",
        "        EC.presence_of_element_located((By.CLASS_NAME, 'YVj9w'))\n",
        "    )#等待網頁載入圖片\n",
        "imgs = driver.find_elements(By.CLASS_NAME,'YVj9w')#找到圖片之標籤並存入imgs變數\n",
        "\n",
        "path='/content/drive/My Drive/test'+'/'+keyword #建立路徑字串\n",
        "if not os.path.exists(path):#判斷google雲端硬碟是否存在該路徑\n",
        "  os.mkdir(path)#建立前面所建立的路徑資料夾\n",
        "  count = 0\n",
        "  for img in imgs:\n",
        "    save_img = os.path.join(path,keyword+str(count)+'.jpg')#將路徑字串再加上圖片的檔名作為存檔位置\n",
        "    #print(img.get_attribute(\"src\"))\n",
        "    try:#使用try 及 except 是為了解決當imgs圖片取完，而save_img持續增加所產生的錯誤\n",
        "      wget.download(img.get_attribute(\"src\"),save_img)#由imgs中取得之圖片網址下載照片，並存入存檔位置路徑\n",
        "      count += 1\n",
        "    except:\n",
        "      break\n",
        "else:#如果路徑存在則不下載圖片，並印出folder exist文字\n",
        "  print(\"folder exist\")#印出folder exist文字"
      ],
      "metadata": {
        "id": "-eIFeiiNhESb"
      },
      "execution_count": null,
      "outputs": []
    }
  ]
}